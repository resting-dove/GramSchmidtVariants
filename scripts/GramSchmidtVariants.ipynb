{
  "nbformat": 4,
  "nbformat_minor": 0,
  "metadata": {
    "colab": {
      "provenance": [],
      "gpuType": "T4"
    },
    "kernelspec": {
      "name": "python3",
      "display_name": "Python 3"
    },
    "language_info": {
      "name": "python"
    },
    "accelerator": "GPU"
  },
  "cells": [
    {
      "cell_type": "code",
      "execution_count": 1,
      "metadata": {
        "id": "HJILgQ-6Yw8u"
      },
      "outputs": [],
      "source": [
        "import functools\n",
        "\n",
        "import jax\n",
        "jax.config.update(\"jax_enable_x64\", True)\n",
        "import jax.numpy as jnp\n",
        "import jax.experimental.sparse as jsparse\n",
        "import time\n",
        "import scipy\n",
        "import numpy\n",
        "from typing import NamedTuple\n",
        "from typing import Union\n",
        "from jax import Array\n",
        "\n",
        "def _error_num_matvecs(num, maxval, minval):\n",
        "    msg1 = f\"Parameter 'num_matvecs'={num} exceeds the acceptable range. \"\n",
        "    msg2 = f\"Expected: {minval} <= num_matvecs <= {maxval}.\"\n",
        "    return msg1 + msg2\n",
        "\n",
        "class _DecompResult(NamedTuple):\n",
        "    # If an algorithm returns a single Q, place it here.\n",
        "    # If it returns multiple Qs, stack them\n",
        "    # into a tuple and place them here.\n",
        "    Q_tall: Union[Array, tuple[Array, ...]]\n",
        "\n",
        "    # If an algorithm returns a materialized matrix,\n",
        "    # place it here. If it returns a sparse representation\n",
        "    # (e.g. two vectors representing diagonals), place it here\n",
        "    J_small: Union[Array, tuple[Array, ...]]\n",
        "\n",
        "    residual: Array\n",
        "    init_length_inv: Array\n",
        "\n",
        "\n",
        "\n",
        "def _hessenberg_forward(matvec, num_matvecs, v, *params, reortho: str, mgs=False):\n",
        "    if num_matvecs < 0 or num_matvecs > len(v):\n",
        "        msg = _error_num_matvecs(num_matvecs, maxval=len(v), minval=0)\n",
        "        raise ValueError(msg)\n",
        "\n",
        "    # Initialise the variables\n",
        "    (n,), k = jnp.shape(v), num_matvecs\n",
        "    Q = jnp.zeros((n, k), dtype=v.dtype)\n",
        "    H = jnp.zeros((k, k), dtype=v.dtype)\n",
        "    initlength = jnp.sqrt(jnp.inner(v, v))\n",
        "    init = (Q, H, v, initlength)\n",
        "\n",
        "    if num_matvecs == 0:\n",
        "        return _DecompResult(\n",
        "            Q_tall=Q, J_small=H, residual=v, init_length_inv=1 / initlength\n",
        "        )\n",
        "\n",
        "    # Fix the step function\n",
        "    if mgs:\n",
        "        Q = Q.at[:, 0].set(v / initlength)\n",
        "        init = (Q, H, v, initlength)\n",
        "        def forward_step(i, val):\n",
        "            return _hessenberg_forward_step_mgs(*val, matvec, *params, idx=i, reortho=reortho)\n",
        "    else:\n",
        "        def forward_step(i, val):\n",
        "            return _hessenberg_forward_step(*val, matvec, *params, idx=i, reortho=reortho)\n",
        "\n",
        "\n",
        "    # Loop and return\n",
        "    Q, H, v, _length = jax.lax.fori_loop(0, k, forward_step, init)\n",
        "    return _DecompResult(\n",
        "        Q_tall=Q, J_small=H, residual=v, init_length_inv=1 / initlength\n",
        "    )\n",
        "\n",
        "\n",
        "def _hessenberg_forward_step(Q, H, v, length, matvec, *params, idx, reortho: str):\n",
        "    # Save\n",
        "    v /= length\n",
        "    Q = Q.at[:, idx].set(v)\n",
        "\n",
        "    # Evaluate\n",
        "    v = matvec(v, *params)\n",
        "\n",
        "    # Orthonormalise\n",
        "    h = Q.T @ v\n",
        "    v = v - Q @ h\n",
        "\n",
        "    # Re-orthonormalise\n",
        "    if reortho != \"none\":\n",
        "        v = v - Q @ (Q.T @ v)\n",
        "\n",
        "    # Read the length\n",
        "    length = jnp.sqrt(jnp.inner(v, v))\n",
        "\n",
        "    # Save\n",
        "    h = h.at[idx + 1].set(length)\n",
        "    H = H.at[:, idx].set(h)\n",
        "\n",
        "    return Q, H, v, length\n",
        "\n",
        "def _hessenberg_forward_step_mgs(Q, H, v, length, matvec, *params, idx, reortho: str):\n",
        "    # w = Q[:, idx]\n",
        "    w = matvec(v, *params)\n",
        "\n",
        "    def body_fun(j, val):\n",
        "        w, H = val\n",
        "        v = Q[:, j]\n",
        "        ip = jnp.dot(v, w)\n",
        "        H = H.at[j, idx].add(ip)\n",
        "        w = w - ip * v\n",
        "        return w, H\n",
        "\n",
        "    w, H = jax.lax.fori_loop(0, idx + 1, body_fun, (w, H))\n",
        "    eta = jnp.linalg.norm(w)\n",
        "    H = H.at[idx + 1, idx].set(eta)\n",
        "    w = w / eta\n",
        "    Q = Q.at[:, idx + 1].set(w)\n",
        "    return Q, H, w, eta\n",
        "\n",
        "def grcar(n: int, k: int = 3):\n",
        "    \"\"\"Generate a Grcar matrix.\n",
        "\n",
        "    This matrix can be generated in Matlab by calling `gallery('grcar', n, k)`.\n",
        "    \"\"\"\n",
        "    subdiag = -1 * numpy.ones(n - 1)\n",
        "    diag = numpy.ones(n)\n",
        "    superdiags = [numpy.ones(n - i) for i in range(1, k + 1)]\n",
        "    return scipy.sparse.diags([subdiag] + [diag] + superdiags, offsets=range(-1, k + 1), format=\"csr\")\n"
      ]
    },
    {
      "cell_type": "code",
      "source": [],
      "metadata": {
        "id": "1M-l8LCbBnY0"
      },
      "execution_count": 1,
      "outputs": []
    },
    {
      "cell_type": "code",
      "source": [
        "n = 5000\n",
        "rng = jax.random.PRNGKey(77)\n",
        "numpy_rng = numpy.random.default_rng(777)\n",
        "A_scipy = grcar(n)\n",
        "A = jsparse.BCOO.from_scipy_sparse(A_scipy)\n",
        "b = jax.random.normal(rng, (n,), dtype=jnp.float64)\n",
        "b_scipy = numpy.array(b)\n",
        "b_length = numpy.linalg.norm(b)\n",
        "\n",
        "@jax.jit\n",
        "def large_matvec(v):\n",
        "    \"\"\"Evaluate a matrix-vector product.\"\"\"\n",
        "    return A @ v"
      ],
      "metadata": {
        "id": "1zc6fyXSY6_Z"
      },
      "execution_count": 2,
      "outputs": []
    },
    {
      "cell_type": "code",
      "source": [
        "def trial_results(ns: list):\n",
        "    results = {n: {\n",
        "        \"ts\": [],\n",
        "        \"loss of orthogonality\": [],\n",
        "    } for n in ns}\n",
        "    return results"
      ],
      "metadata": {
        "id": "W3qgLAzW7Pxf"
      },
      "execution_count": 3,
      "outputs": []
    },
    {
      "cell_type": "code",
      "source": [
        "num_matvecs = 900\n",
        "_hessenberg_forward_cgs = functools.partial(_hessenberg_forward, num_matvecs=900, matvec=large_matvec, reortho=\"full\", mgs=False)\n",
        "_hessenberg_forward_cgs = jax.jit(_hessenberg_forward_cgs)\n",
        "for _ in range(3):\n",
        "    start = time.time()\n",
        "    arnoldi_avoiding: _DecompResult = _hessenberg_forward_cgs(v=b)\n",
        "    jax.block_until_ready(arnoldi_avoiding)\n",
        "    end = time.time()\n",
        "    Q = arnoldi_avoiding.Q_tall\n",
        "    ortho = jnp.linalg.norm(jnp.eye(num_matvecs, num_matvecs) - Q.T @ Q)\n",
        "    print(f\"Time taken: {end - start:.6f} seconds, n={num_matvecs}, orthogonality: {ortho}\")"
      ],
      "metadata": {
        "colab": {
          "base_uri": "https://localhost:8080/"
        },
        "id": "c4AMAsJVBWji",
        "outputId": "3a1055e7-c8bc-4189-95ba-bdfc8507da84"
      },
      "execution_count": 4,
      "outputs": [
        {
          "output_type": "stream",
          "name": "stdout",
          "text": [
            "Time taken: 3.045705 seconds, n=900, orthogonality: 1.628267895911933e-14\n",
            "Time taken: 0.714611 seconds, n=900, orthogonality: 1.6087962625751466e-14\n",
            "Time taken: 0.722825 seconds, n=900, orthogonality: 1.6128700367225805e-14\n"
          ]
        }
      ]
    },
    {
      "cell_type": "code",
      "source": [
        "num_matvecss = [200, 900]\n",
        "\n",
        "def trial(num_matvecss):\n",
        "  ortho_mgs = trial_results(num_matvecss)\n",
        "  ortho_cgs = trial_results(num_matvecss)\n",
        "  ortho_cgs_reoproj = trial_results(num_matvecss)\n",
        "\n",
        "  for num_matvecs in num_matvecss:\n",
        "    _hessenberg_forward_mgs = functools.partial(_hessenberg_forward, num_matvecs=num_matvecs, matvec=large_matvec, reortho=\"none\", mgs=True)\n",
        "    _hessenberg_forward_mgs = jax.jit(_hessenberg_forward_mgs)\n",
        "    for _ in range(5):\n",
        "        start = time.time()\n",
        "        arnoldi_avoiding: _DecompResult = _hessenberg_forward_mgs(v=b)\n",
        "        jax.block_until_ready(arnoldi_avoiding)\n",
        "        end = time.time()\n",
        "        Q = arnoldi_avoiding.Q_tall\n",
        "        ortho = jnp.linalg.norm(jnp.eye(num_matvecs, num_matvecs) - Q.T @ Q)\n",
        "        print(f\"Time taken: {end - start:.6f} seconds, n={num_matvecs}, orthogonality: {ortho}\")\n",
        "        ortho_mgs[num_matvecs][\"ts\"].append(end - start)\n",
        "        ortho_mgs[num_matvecs][\"loss of orthogonality\"].append(ortho)\n",
        "\n",
        "    _hessenberg_forward_cgs = functools.partial(_hessenberg_forward, num_matvecs=num_matvecs, matvec=large_matvec, reortho=\"none\", mgs=False)\n",
        "    _hessenberg_forward_cgs = jax.jit(_hessenberg_forward_cgs)\n",
        "    for _ in range(5):\n",
        "        start = time.time()\n",
        "        arnoldi_avoiding: _DecompResult = _hessenberg_forward_cgs(v=b)\n",
        "        jax.block_until_ready(arnoldi_avoiding)\n",
        "        end = time.time()\n",
        "        Q = arnoldi_avoiding.Q_tall\n",
        "        ortho = jnp.linalg.norm(jnp.eye(num_matvecs, num_matvecs) - Q.T @ Q)\n",
        "        print(f\"Time taken: {end - start:.6f} seconds, n={num_matvecs}, orthogonality: {ortho}\")\n",
        "        ortho_cgs[num_matvecs][\"ts\"].append(end - start)\n",
        "        ortho_cgs[num_matvecs][\"loss of orthogonality\"].append(ortho)\n",
        "\n",
        "    _hessenberg_forward_cgs_reoproj = functools.partial(_hessenberg_forward, num_matvecs=num_matvecs, matvec=large_matvec, reortho=\"full\", mgs=False)\n",
        "    _hessenberg_forward_cgs_reoproj = jax.jit(_hessenberg_forward_cgs_reoproj)\n",
        "    for _ in range(5):\n",
        "        start = time.time()\n",
        "        arnoldi_avoiding: _DecompResult = _hessenberg_forward_cgs_reoproj(v=b)\n",
        "        jax.block_until_ready(arnoldi_avoiding)\n",
        "        end = time.time()\n",
        "        Q = arnoldi_avoiding.Q_tall\n",
        "        ortho = jnp.linalg.norm(jnp.eye(num_matvecs, num_matvecs) - Q.T @ Q)\n",
        "        print(f\"Time taken: {end - start:.6f} seconds, n={num_matvecs}, orthogonality: {ortho}\")\n",
        "        ortho_cgs_reoproj[num_matvecs][\"ts\"].append(end - start)\n",
        "        ortho_cgs_reoproj[num_matvecs][\"loss of orthogonality\"].append(ortho)\n",
        "  return ortho_mgs, ortho_cgs, ortho_cgs_reoproj"
      ],
      "metadata": {
        "id": "hT1spZe3et8k"
      },
      "execution_count": 5,
      "outputs": []
    },
    {
      "cell_type": "code",
      "source": [
        "ortho_mgs, ortho_cgs, ortho_cgs_reoproj = trial(num_matvecss)\n",
        "\n",
        "print(ortho_mgs)\n",
        "print(ortho_cgs)\n",
        "print(ortho_cgs_reoproj)"
      ],
      "metadata": {
        "colab": {
          "base_uri": "https://localhost:8080/"
        },
        "id": "IYEyF-KSfIvQ",
        "outputId": "0684c63a-9479-40d0-e964-bc172e49a668"
      },
      "execution_count": 6,
      "outputs": [
        {
          "output_type": "stream",
          "name": "stdout",
          "text": [
            "Time taken: 1.161742 seconds, n=200, orthogonality: 5.726874141049164e-11\n",
            "Time taken: 0.538039 seconds, n=200, orthogonality: 7.043319222224402e-11\n",
            "Time taken: 0.541878 seconds, n=200, orthogonality: 5.4372677693131525e-11\n",
            "Time taken: 0.551504 seconds, n=200, orthogonality: 5.5502272622528034e-11\n",
            "Time taken: 0.563922 seconds, n=200, orthogonality: 6.59442356853385e-11\n",
            "Time taken: 0.674655 seconds, n=200, orthogonality: 9.662870653082427e-10\n",
            "Time taken: 0.023484 seconds, n=200, orthogonality: 5.025793351821561e-10\n",
            "Time taken: 0.023180 seconds, n=200, orthogonality: 6.31167913636217e-11\n",
            "Time taken: 0.023274 seconds, n=200, orthogonality: 5.603260074889483e-10\n",
            "Time taken: 0.023574 seconds, n=200, orthogonality: 1.5587808643715953e-09\n",
            "Time taken: 0.786281 seconds, n=200, orthogonality: 4.638194678692581e-15\n",
            "Time taken: 0.043816 seconds, n=200, orthogonality: 4.559526024053206e-15\n",
            "Time taken: 0.042853 seconds, n=200, orthogonality: 4.513366944241335e-15\n",
            "Time taken: 0.042662 seconds, n=200, orthogonality: 4.6022345007505166e-15\n",
            "Time taken: 0.043313 seconds, n=200, orthogonality: 4.649102054384478e-15\n",
            "Time taken: 11.235453 seconds, n=900, orthogonality: 1.414213562373096\n",
            "Time taken: 11.466746 seconds, n=900, orthogonality: 1.4142135623730963\n",
            "Time taken: 11.376482 seconds, n=900, orthogonality: 1.4142135623730927\n",
            "Time taken: 10.373366 seconds, n=900, orthogonality: 1.4142135623730934\n",
            "Time taken: 10.185203 seconds, n=900, orthogonality: 1.4142135623730963\n",
            "Time taken: 0.793514 seconds, n=900, orthogonality: 399.6763393305564\n",
            "Time taken: 0.372957 seconds, n=900, orthogonality: 385.1361329553919\n",
            "Time taken: 0.377471 seconds, n=900, orthogonality: 403.6595418732947\n",
            "Time taken: 0.374651 seconds, n=900, orthogonality: 407.3810528808125\n",
            "Time taken: 0.378886 seconds, n=900, orthogonality: 403.8000709454614\n",
            "Time taken: 1.142403 seconds, n=900, orthogonality: 1.619528005097492e-14\n",
            "Time taken: 0.745849 seconds, n=900, orthogonality: 1.6145091518599213e-14\n",
            "Time taken: 0.746846 seconds, n=900, orthogonality: 1.6253761339098633e-14\n",
            "Time taken: 0.747108 seconds, n=900, orthogonality: 1.6255056853937896e-14\n",
            "Time taken: 0.743978 seconds, n=900, orthogonality: 1.621852890474816e-14\n",
            "{200: {'ts': [1.1617424488067627, 0.5380387306213379, 0.5418775081634521, 0.551504373550415, 0.5639216899871826], 'loss of orthogonality': [Array(5.72687414e-11, dtype=float64), Array(7.04331922e-11, dtype=float64), Array(5.43726777e-11, dtype=float64), Array(5.55022726e-11, dtype=float64), Array(6.59442357e-11, dtype=float64)]}, 900: {'ts': [11.235452890396118, 11.466745615005493, 11.376482248306274, 10.373365879058838, 10.185203313827515], 'loss of orthogonality': [Array(1.41421356, dtype=float64), Array(1.41421356, dtype=float64), Array(1.41421356, dtype=float64), Array(1.41421356, dtype=float64), Array(1.41421356, dtype=float64)]}}\n",
            "{200: {'ts': [0.6746547222137451, 0.0234835147857666, 0.02317953109741211, 0.023273706436157227, 0.023574113845825195], 'loss of orthogonality': [Array(9.66287065e-10, dtype=float64), Array(5.02579335e-10, dtype=float64), Array(6.31167914e-11, dtype=float64), Array(5.60326007e-10, dtype=float64), Array(1.55878086e-09, dtype=float64)]}, 900: {'ts': [0.7935137748718262, 0.3729574680328369, 0.3774709701538086, 0.3746509552001953, 0.37888622283935547], 'loss of orthogonality': [Array(399.67633933, dtype=float64), Array(385.13613296, dtype=float64), Array(403.65954187, dtype=float64), Array(407.38105288, dtype=float64), Array(403.80007095, dtype=float64)]}}\n",
            "{200: {'ts': [0.7862811088562012, 0.043816328048706055, 0.04285311698913574, 0.04266238212585449, 0.04331326484680176], 'loss of orthogonality': [Array(4.63819468e-15, dtype=float64), Array(4.55952602e-15, dtype=float64), Array(4.51336694e-15, dtype=float64), Array(4.6022345e-15, dtype=float64), Array(4.64910205e-15, dtype=float64)]}, 900: {'ts': [1.1424028873443604, 0.7458486557006836, 0.7468457221984863, 0.747107982635498, 0.7439775466918945], 'loss of orthogonality': [Array(1.61952801e-14, dtype=float64), Array(1.61450915e-14, dtype=float64), Array(1.62537613e-14, dtype=float64), Array(1.62550569e-14, dtype=float64), Array(1.62185289e-14, dtype=float64)]}}\n"
          ]
        }
      ]
    },
    {
      "cell_type": "code",
      "source": [
        "with jax.default_device(jax.devices('cpu')[0]):\n",
        "  ortho_mgs, ortho_cgs, ortho_cgs_reoproj = trial(num_matvecss)\n",
        "\n",
        "  print(ortho_mgs)\n",
        "  print(ortho_cgs)\n",
        "  print(ortho_cgs_reoproj)"
      ],
      "metadata": {
        "colab": {
          "base_uri": "https://localhost:8080/"
        },
        "id": "aWR3LQm7bWOx",
        "outputId": "d02f1b33-c5f0-4b3f-f2bc-1a5a3b634db0"
      },
      "execution_count": 7,
      "outputs": [
        {
          "output_type": "stream",
          "name": "stdout",
          "text": [
            "Time taken: 1.791687 seconds, n=200, orthogonality: 3.1320675616833106e-10\n",
            "Time taken: 1.109135 seconds, n=200, orthogonality: 3.1320675616833106e-10\n",
            "Time taken: 1.110461 seconds, n=200, orthogonality: 3.1320675616833106e-10\n",
            "Time taken: 1.107299 seconds, n=200, orthogonality: 3.1320675616833106e-10\n",
            "Time taken: 1.106515 seconds, n=200, orthogonality: 3.1320675616833106e-10\n",
            "Time taken: 1.744044 seconds, n=200, orthogonality: 8.590362726625322e-09\n",
            "Time taken: 1.420714 seconds, n=200, orthogonality: 8.590362726625322e-09\n",
            "Time taken: 1.782701 seconds, n=200, orthogonality: 8.590362726625322e-09\n",
            "Time taken: 1.838315 seconds, n=200, orthogonality: 8.590362726625322e-09\n",
            "Time taken: 1.773728 seconds, n=200, orthogonality: 8.590362726625322e-09\n",
            "Time taken: 2.177146 seconds, n=200, orthogonality: 2.874116232194062e-14\n",
            "Time taken: 1.657833 seconds, n=200, orthogonality: 2.874116232194062e-14\n",
            "Time taken: 1.667096 seconds, n=200, orthogonality: 2.874116232194062e-14\n",
            "Time taken: 1.682868 seconds, n=200, orthogonality: 2.874116232194062e-14\n",
            "Time taken: 2.374460 seconds, n=200, orthogonality: 2.874116232194062e-14\n",
            "Time taken: 42.171705 seconds, n=900, orthogonality: 1.4142135623736418\n",
            "Time taken: 37.443863 seconds, n=900, orthogonality: 1.4142135623736418\n",
            "Time taken: 42.794252 seconds, n=900, orthogonality: 1.4142135623736418\n",
            "Time taken: 40.911407 seconds, n=900, orthogonality: 1.4142135623736418\n",
            "Time taken: 43.458747 seconds, n=900, orthogonality: 1.4142135623736418\n",
            "Time taken: 57.913100 seconds, n=900, orthogonality: 433.37579316932556\n",
            "Time taken: 58.481540 seconds, n=900, orthogonality: 433.37579316932556\n",
            "Time taken: 57.123298 seconds, n=900, orthogonality: 433.37579316932556\n",
            "Time taken: 58.418185 seconds, n=900, orthogonality: 433.37579316932556\n",
            "Time taken: 56.504292 seconds, n=900, orthogonality: 433.37579316932556\n",
            "Time taken: 67.130861 seconds, n=900, orthogonality: 6.690346924557721e-14\n",
            "Time taken: 65.471615 seconds, n=900, orthogonality: 6.690346924557721e-14\n",
            "Time taken: 66.562506 seconds, n=900, orthogonality: 6.690346924557721e-14\n",
            "Time taken: 70.617812 seconds, n=900, orthogonality: 6.690346924557721e-14\n",
            "Time taken: 68.150049 seconds, n=900, orthogonality: 6.690346924557721e-14\n",
            "{200: {'ts': [1.79168701171875, 1.1091351509094238, 1.1104612350463867, 1.1072993278503418, 1.1065149307250977], 'loss of orthogonality': [Array(3.13206756e-10, dtype=float64), Array(3.13206756e-10, dtype=float64), Array(3.13206756e-10, dtype=float64), Array(3.13206756e-10, dtype=float64), Array(3.13206756e-10, dtype=float64)]}, 900: {'ts': [42.17170476913452, 37.44386291503906, 42.79425239562988, 40.91140651702881, 43.45874738693237], 'loss of orthogonality': [Array(1.41421356, dtype=float64), Array(1.41421356, dtype=float64), Array(1.41421356, dtype=float64), Array(1.41421356, dtype=float64), Array(1.41421356, dtype=float64)]}}\n",
            "{200: {'ts': [1.7440440654754639, 1.4207136631011963, 1.7827012538909912, 1.8383145332336426, 1.7737278938293457], 'loss of orthogonality': [Array(8.59036273e-09, dtype=float64), Array(8.59036273e-09, dtype=float64), Array(8.59036273e-09, dtype=float64), Array(8.59036273e-09, dtype=float64), Array(8.59036273e-09, dtype=float64)]}, 900: {'ts': [57.91309976577759, 58.481539726257324, 57.12329840660095, 58.41818451881409, 56.504292249679565], 'loss of orthogonality': [Array(433.37579317, dtype=float64), Array(433.37579317, dtype=float64), Array(433.37579317, dtype=float64), Array(433.37579317, dtype=float64), Array(433.37579317, dtype=float64)]}}\n",
            "{200: {'ts': [2.1771464347839355, 1.6578330993652344, 1.6670958995819092, 1.6828677654266357, 2.374460458755493], 'loss of orthogonality': [Array(2.87411623e-14, dtype=float64), Array(2.87411623e-14, dtype=float64), Array(2.87411623e-14, dtype=float64), Array(2.87411623e-14, dtype=float64), Array(2.87411623e-14, dtype=float64)]}, 900: {'ts': [67.13086080551147, 65.47161483764648, 66.56250619888306, 70.61781215667725, 68.15004920959473], 'loss of orthogonality': [Array(6.69034692e-14, dtype=float64), Array(6.69034692e-14, dtype=float64), Array(6.69034692e-14, dtype=float64), Array(6.69034692e-14, dtype=float64), Array(6.69034692e-14, dtype=float64)]}}\n"
          ]
        }
      ]
    },
    {
      "cell_type": "code",
      "source": [],
      "metadata": {
        "id": "iVjucrk8o66r"
      },
      "execution_count": 7,
      "outputs": []
    }
  ]
}